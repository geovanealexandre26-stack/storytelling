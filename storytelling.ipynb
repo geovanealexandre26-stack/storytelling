{
 "cells": [
  {
   "cell_type": "code",
   "execution_count": 11,
   "id": "2cad7fad-2c86-4ec3-92a5-6f88caa7d9cc",
   "metadata": {},
   "outputs": [
    {
     "name": "stdout",
     "output_type": "stream",
     "text": [
      "Bem-vindo(a) à nossa empresa de dados!\n",
      "\n",
      "Temos três grandes departamentos: ['TI', 'Marketing', 'Vendas']\n",
      "\n",
      "Esses são os funcionários e seus respectivos projetos:\n",
      "Ronaldo trabalha no departamento TI e está no projeto 'Automação'.\n",
      "Maria trabalha no departamento Marketing e está no projeto 'Campanha de Verão'.\n",
      "Júlia trabalha no departamento Vendas e está no projeto 'Estratégia de Preço'.\n",
      "Ronaldinho trabalha no departamento TI e está no projeto 'Análise de Dados'.\n",
      "\n",
      "Após uma reunião na empresa, foi decidido realocar alguns projetos!\n",
      "\n",
      "Ronaldo agora está alocado no projeto 'Big Data'.\n",
      "Ronaldinho agora está alocado no projeto 'Machine Learning'.\n",
      "\n",
      "Matriz com [Funcionário, Departamento, Projeto]:\n",
      "['Ronaldo', 'TI', 'Big Data']\n",
      "['Maria', 'Marketing', 'Campanha de Verão']\n",
      "['Júlia', 'Vendas', 'Estratégia de Preço']\n",
      "['Ronaldinho', 'TI', 'Machine Learning']\n",
      "\n",
      "Relatório final em formato DataFrame:\n",
      "  Funcionário Departamento              Projeto\n",
      "0     Ronaldo           TI             Big Data\n",
      "1       Maria    Marketing    Campanha de Verão\n",
      "2       Júlia       Vendas  Estratégia de Preço\n",
      "3  Ronaldinho           TI     Machine Learning\n"
     ]
    }
   ],
   "source": [
    "import pandas as pd\n",
    "\n",
    "departamentos = [\"TI\", \"Marketing\", \"Vendas\"]\n",
    "\n",
    "alocacoes_funcionarios = {\n",
    "    \"Ronaldo\": {\"departamento\": \"TI\", \"projeto\": \"Automação\"},\n",
    "    \"Maria\": {\"departamento\": \"Marketing\", \"projeto\": \"Campanha de Verão\"},\n",
    "    \"Júlia\": {\"departamento\": \"Vendas\", \"projeto\": \"Estratégia de Preço\"},\n",
    "    \"Ronaldinho\": {\"departamento\": \"TI\", \"projeto\": \"Análise de Dados\"}\n",
    "}\n",
    "\n",
    "def alocacao_projeto(funcionario, novo_projeto):\n",
    "    if funcionario in alocacoes_funcionarios:\n",
    "        alocacoes_funcionarios[funcionario][\"projeto\"] = novo_projeto\n",
    "        print(f\"{funcionario} agora está alocado no projeto '{novo_projeto}'.\")\n",
    "    else:\n",
    "        print(f\"Funcionário {funcionario} não encontrado!\")\n",
    "\n",
    "def informacoes_funcionario():\n",
    "    for funcionario, projeto in alocacoes_funcionarios.items():\n",
    "        departamento = projeto[\"departamento\"]\n",
    "        projeto = projeto[\"projeto\"]\n",
    "        print(f\"{funcionario} trabalha no departamento {departamento} e está no projeto '{projeto}'.\")\n",
    "\n",
    "print('Bem-vindo(a) à nossa empresa de dados!\\n')\n",
    "print(f'Temos três grandes departamentos: {departamentos}\\n')\n",
    "print('Esses são os funcionários e seus respectivos projetos:')\n",
    "informacoes_funcionario()\n",
    "print()\n",
    "\n",
    "print('Após uma reunião na empresa, foi decidido realocar alguns projetos!\\n')\n",
    "alocacao_projeto(\"Ronaldo\", \"Big Data\")\n",
    "alocacao_projeto(\"Ronaldinho\", \"Machine Learning\")\n",
    "print()\n",
    "\n",
    "print(\"Matriz com [Funcionário, Departamento, Projeto]:\")\n",
    "matriz = [[funcionario, i[\"departamento\"], i[\"projeto\"]] for funcionario, i in alocacoes_funcionarios.items()]\n",
    "for linha in matriz:\n",
    "    print(linha)\n",
    "print()\n",
    "\n",
    "print(\"Relatório final em formato DataFrame:\")\n",
    "df = pd.DataFrame(matriz, columns=[\"Funcionário\", \"Departamento\", \"Projeto\"])\n",
    "print(df)"
   ]
  }
 ],
 "metadata": {
  "kernelspec": {
   "display_name": "Python 3 (ipykernel)",
   "language": "python",
   "name": "python3"
  },
  "language_info": {
   "codemirror_mode": {
    "name": "ipython",
    "version": 3
   },
   "file_extension": ".py",
   "mimetype": "text/x-python",
   "name": "python",
   "nbconvert_exporter": "python",
   "pygments_lexer": "ipython3",
   "version": "3.12.4"
  }
 },
 "nbformat": 4,
 "nbformat_minor": 5
}
